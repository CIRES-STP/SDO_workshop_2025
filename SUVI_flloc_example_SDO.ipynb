{
 "cells": [
  {
   "cell_type": "markdown",
   "id": "939ff482-bc9f-4149-ae3a-0ab39eb3976f",
   "metadata": {},
   "source": [
    "In this example, we will be plotting both the flare location (flloc) and peak location (peak_loc) variables from\n",
    "the flare location product. Flare location is determined by center-of-mass calculations, whereas peak location is\n",
    "determined by the region with the highest irradiance.\n",
    "\n",
    "We will plot both flloc and peak_loc for each of the following coordinate systems:\n",
    " * Heliographic Stonyhurst `(longitude, latitude)`\n",
    " * Helioprojective Cartesian `(x arcsec, y arcsec)`\n"
   ]
  },
  {
   "cell_type": "markdown",
   "id": "8e8a6e29-e88c-4fb4-acf0-5144a4fa6ecf",
   "metadata": {},
   "source": [
    "If you're having trouble getting this notebook to run, try these commands, and then run the import cell below:\n",
    "* `conda create -n SDO_workshop_SUVI`\n",
    "* `conda activate SDO_workshop_SUVI`\n",
    "* `conda install jupyter sunpy netCDF4` or `conda install jupyter sunpy netCDF4 matplotlib astropy`"
   ]
  },
  {
   "cell_type": "code",
   "execution_count": 1,
   "id": "7de90ddb-501a-477f-9d7d-969005071214",
   "metadata": {},
   "outputs": [],
   "source": [
    "import matplotlib.pyplot as plt\n",
    "import numpy as np\n",
    "from datetime import datetime, timedelta\n",
    "import glob\n",
    "import netCDF4 as nc\n",
    "import os\n",
    "import sunpy\n",
    "import sunpy.map\n",
    "import astropy.units as u\n",
    "from astropy.coordinates import SkyCoord, CylindricalRepresentation\n",
    "from sunpy.coordinates import frames\n",
    "from sunpy.net import Fido, attrs as a\n",
    "from astropy.io import fits\n",
    "import matplotlib.cm as cm"
   ]
  },
  {
   "cell_type": "markdown",
   "id": "14ee4488-f657-4ef9-b9f6-161781d84011",
   "metadata": {},
   "source": [
    "For this example, we'll be looking at GOES-16 for 2024-01-23 3:44 UTC. We'll use the 131Å channel, since both 094Å and 131Å are best for visualizing flares."
   ]
  },
  {
   "cell_type": "code",
   "execution_count": 2,
   "id": "c1cf7e37-5ae1-45f8-840a-81b6a2103517",
   "metadata": {},
   "outputs": [],
   "source": [
    "goes = 16\n",
    "date = datetime(2024, 1, 23, 3, 44)\n",
    "wavelength = 131"
   ]
  },
  {
   "cell_type": "markdown",
   "id": "40f6d7f0-4480-4255-96c2-09993ca2a61f",
   "metadata": {},
   "source": [
    "Here, we'll define a couple helper functions - one to help add a better legend to our plots, and one to convert the SUVI flare location time to datetime."
   ]
  },
  {
   "cell_type": "code",
   "execution_count": 3,
   "id": "f0e79cca-34cf-415e-aae1-f79936bb1e6b",
   "metadata": {},
   "outputs": [],
   "source": [
    "def legend_handles():\n",
    "    markers=['o', '*']\n",
    "    fillstyle=['none', 'full']\n",
    "    labels = ['flloc', 'peak_loc']\n",
    "    f = lambda m,c,fill: plt.plot([],[],marker=m, color=c, ls='none', fillstyle=fill)[0]\n",
    "    handles = [f(markers[i], 'k', fillstyle[i]) for i in range(len(markers))]\n",
    "    return handles, labels"
   ]
  },
  {
   "cell_type": "code",
   "execution_count": 4,
   "id": "0da09fd3-2d09-4b4f-9846-ea0ce6dbc888",
   "metadata": {},
   "outputs": [],
   "source": [
    "def convert_suvi_flloc_time(ftime):\n",
    "    date_suvi_flloc = datetime(2000, 1, 1, 12, 0)\n",
    "    date = date_suvi_flloc + timedelta(seconds=ftime)\n",
    "    return date"
   ]
  },
  {
   "cell_type": "markdown",
   "id": "a2530a9a-93f4-40cf-895a-6345b6ef9b8e",
   "metadata": {},
   "source": [
    "This function will help us grab the background map of the sun for the time we requested. This searches +- 2 minutes from the time we request to get the closest possible map of the sun."
   ]
  },
  {
   "cell_type": "code",
   "execution_count": 5,
   "id": "42e62578-2b46-4280-8d93-dd6b8415d092",
   "metadata": {},
   "outputs": [],
   "source": [
    "def create_suvi_sunpymap(date, goes=16, wavelength=131, rng=2):\n",
    "    ds0 = (date - timedelta(minutes=rng)).strftime(\"%Y/%m/%d %H:%M:%S\")\n",
    "    ds1 = (date + timedelta(minutes=rng)).strftime(\"%Y/%m/%d %H:%M:%S\")\n",
    "    # Only search for L2 files from SUVI\n",
    "    q = Fido.search(a.Time(ds0, ds1), a.Instrument.suvi, a.Wavelength(wavelength*u.angstrom), a.Level(2))\n",
    "    tmp_files = Fido.fetch(q)\n",
    "    # Select files from specified satellite\n",
    "    for tmp_file in tmp_files:\n",
    "        if (f'g{goes}' in tmp_file):\n",
    "            data, header = fits.getdata(tmp_file, ext=1), fits.getheader(tmp_file, 1)\n",
    "            suvi_map = sunpy.map.Map(data, header)\n",
    "            return suvi_map, data, header"
   ]
  },
  {
   "cell_type": "markdown",
   "id": "1d74548c-a38f-4630-95e3-6d86efd907ef",
   "metadata": {},
   "source": [
    "Let's load in a flare location file and take a look at the variables. The locations we'll be using are:\n",
    " * `flloc_hg`\n",
    " * `peak_loc_hg`\n",
    " * `flloc_hpc`\n",
    " * `peak_loc_hpc`\n",
    "\n",
    "Be sure to change the path to wherever you downloaded the NetCDF file!"
   ]
  },
  {
   "cell_type": "code",
   "execution_count": 6,
   "id": "98542c73-dd03-4ac0-bcea-7ccab93bd95c",
   "metadata": {},
   "outputs": [
    {
     "name": "stdout",
     "output_type": "stream",
     "text": [
      "dict_keys(['time', 'wavelength', 'degraded_status', 'num_flloc', 'brght_area', 'srs_status', 'xrs_status', 'euv_status', 'flloc_pix', 'flloc_hg', 'flloc_car', 'flloc_rtheta', 'flloc_hpc', 'flloc_hcc', 'flloc_hcr', 'tot_flux', 'peak_flux', 'peak_loc_pix', 'peak_loc_hg', 'peak_loc_car', 'peak_loc_rtheta', 'peak_loc_hpc', 'peak_loc_hcc', 'peak_loc_hcr'])\n"
     ]
    }
   ],
   "source": [
    "suvi_flloc_path = '/Users/elysia.lucas/Downloads/dr_suvi-l2-flloc_g16_s20240123T034400Z_e20240123T034800Z_v1-0-6.nc'\n",
    "flloc_nc = nc.Dataset(suvi_flloc_path)\n",
    "print(flloc_nc.variables.keys())"
   ]
  },
  {
   "cell_type": "markdown",
   "id": "e77c1bf1-789e-4b2c-83c9-93d186ffac1e",
   "metadata": {},
   "source": [
    "The shape of these variables for our chosen coordinate systems is `(1, n, 6, 2)`.\n",
    "* 1 = 1 time \n",
    "* n = n flare(s) recorded\n",
    "* 6 = 6 wavelengths   \n",
    "* 2 = 2 coordinate dimensions\n",
    "\n",
    "As you can see, this file contains 2 flares, making the shape `(1, 2, 6, 2)`.\n",
    "Below, you can see coordinate pairs per flare, per wavelength."
   ]
  },
  {
   "cell_type": "code",
   "execution_count": 7,
   "id": "675c8bee-2600-41f5-9ddd-8b9a4c06bc4d",
   "metadata": {},
   "outputs": [
    {
     "name": "stdout",
     "output_type": "stream",
     "text": [
      "FLLOC HPC SHAPE: (1, 2, 6, 2)\n",
      "\n",
      "[[[[ 501.911 -235.57 ]\n",
      "   [ 503.303 -236.632]\n",
      "   [ 501.512 -234.692]\n",
      "   [ 501.485 -235.153]\n",
      "   [ 500.657 -234.871]\n",
      "   [ 501.276 -235.302]]\n",
      "\n",
      "  [[-272.757  561.57 ]\n",
      "   [-271.408  562.239]\n",
      "   [-272.852  559.842]\n",
      "   [-272.748  560.147]\n",
      "   [-272.802  560.175]\n",
      "   [-272.728  559.808]]]]\n"
     ]
    }
   ],
   "source": [
    "print('FLLOC HPC SHAPE:', np.shape(flloc_nc['flloc_hpc'][:]))\n",
    "print('')\n",
    "print(flloc_nc['flloc_hpc'][:])"
   ]
  },
  {
   "cell_type": "markdown",
   "id": "e588101b-a7a3-4102-8cf0-b5e56372568b",
   "metadata": {},
   "source": [
    "Let's grab the time from the flare location file, and convert it to a regular datetime. Then, we will query via Fido and grab our SUVI SunPy map on which we can overlay coordinates."
   ]
  },
  {
   "cell_type": "code",
   "execution_count": 8,
   "id": "568670de-79f6-494b-9fdd-d76ca4a82a50",
   "metadata": {},
   "outputs": [
    {
     "data": {
      "application/vnd.jupyter.widget-view+json": {
       "model_id": "0e90ed9222264aecb9c6a2d5b9a5d489",
       "version_major": 2,
       "version_minor": 0
      },
      "text/plain": [
       "Files Downloaded: 0file [00:00, ?file/s]"
      ]
     },
     "metadata": {},
     "output_type": "display_data"
    },
    {
     "ename": "TypeError",
     "evalue": "cannot unpack non-iterable NoneType object",
     "output_type": "error",
     "traceback": [
      "\u001b[0;31m---------------------------------------------------------------------------\u001b[0m",
      "\u001b[0;31mTypeError\u001b[0m                                 Traceback (most recent call last)",
      "Cell \u001b[0;32mIn[8], line 2\u001b[0m\n\u001b[1;32m      1\u001b[0m flloc_time \u001b[38;5;241m=\u001b[39m convert_suvi_flloc_time(flloc_nc[\u001b[38;5;124m'\u001b[39m\u001b[38;5;124mtime\u001b[39m\u001b[38;5;124m'\u001b[39m][:][\u001b[38;5;241m0\u001b[39m])\n\u001b[0;32m----> 2\u001b[0m suvi_map, suvi_data, suvi_header \u001b[38;5;241m=\u001b[39m create_suvi_sunpymap(date)\n",
      "\u001b[0;31mTypeError\u001b[0m: cannot unpack non-iterable NoneType object"
     ]
    }
   ],
   "source": [
    "flloc_time = convert_suvi_flloc_time(flloc_nc['time'][:][0])\n",
    "suvi_map, suvi_data, suvi_header = create_suvi_sunpymap(date)"
   ]
  },
  {
   "cell_type": "markdown",
   "id": "a11f19b0-4c87-40db-82e4-fb2584012669",
   "metadata": {},
   "source": [
    "First, we will plot the coordinates from the Heliographic Stonyhurst coordinate system.\n",
    "\n",
    "This cell below first plots the SUVI SunPy Map as the background, then extracts the arrays for `flloc_hg` and `peak_loc_hg` from the NetCDF.\n",
    "\n",
    "For each flare, it will make a SkyCoord object in the Heliographic Stonyhurst coordinate system, and then plot corresponding contours (crosshairs) to make the flares easier to pinpoint. Then, it will transform that SkyCoord object to correspond with the SUVI SunPy Map's coordinate system.\n",
    "\n",
    "Heliographic Stonyhurst is only defined on-disk, so any off-disk coordinates will show as NaNs. This doesn't pertain to this example specifically, but is good to keep in mind when plotting flares in general.\n",
    "\n",
    "Notes: \n",
    " * The SunPy Map is Helioprojective, which is why the x/y labels are also Helioprojective.\n",
    " * Ignore \"INFO: Missing metadata for solar radius: assuming the standard radius of the photosphere. [sunpy.map.mapbase]\" - this is due to an unfilled `RSUN_REF` metadata variable that will be included in future products."
   ]
  },
  {
   "cell_type": "code",
   "execution_count": null,
   "id": "9d3e6cdc-019f-49db-b7bc-26f2172330ad",
   "metadata": {},
   "outputs": [],
   "source": [
    "# Plot the composite image SunPy map\n",
    "fig = plt.figure(figsize=(10, 10))\n",
    "fig.tight_layout(h_pad=-50)\n",
    "fig.suptitle(f'Heliographic Stonyhurst Coordinates, GOES-{goes}')\n",
    "ax = fig.add_subplot(projection=suvi_map)\n",
    "suvi_map.plot(axes=ax, clip_interval=(0.1, 99.9)*u.percent)\n",
    "num_points = 100\n",
    "\n",
    "# Get wavelength index of requested wavelength\n",
    "wavelength_i = list(flloc_nc['wavelength'][:]).index(wavelength)\n",
    "\n",
    "# Extract flare location from netCDF\n",
    "flloc_hg = flloc_nc['flloc_hg'][:][0]\n",
    "peak_hg = flloc_nc['peak_loc_hg'][:][0]\n",
    "\n",
    "# Establish colormap (one distinct color per flare)\n",
    "colors = cm.Reds_r(np.linspace(0.2, 0.6, len(flloc_hg)))\n",
    "\n",
    "### For each flare location in flloc_hg, plot flare and contours\n",
    "for flare, c in zip(flloc_hg, colors):\n",
    "\n",
    "    x = flare[wavelength_i][0]\n",
    "    y = flare[wavelength_i][1]\n",
    "\n",
    "    # Convert flare location into SkyCoord object in Heliographic Stonyhurst frame\n",
    "    flloc_hgs_sc = SkyCoord(x*u.degree, y*u.degree, obstime=flloc_time, observer=suvi_map.observer_coordinate, frame=frames.HeliographicStonyhurst)\n",
    "\n",
    "\n",
    "    # Plot contours\n",
    "    stonyhurst_frame = frames.HeliographicStonyhurst(obstime=suvi_map.date)\n",
    "    constant_lon = SkyCoord(flloc_hgs_sc.lon, np.linspace(-90, 90, num_points) * u.deg,\n",
    "                            frame=stonyhurst_frame)\n",
    "    constant_lat = SkyCoord(np.linspace(-90, 90, num_points) * u.deg, flloc_hgs_sc.lat,\n",
    "                            frame=stonyhurst_frame)\n",
    "    \n",
    "    ax.plot_coord(constant_lon, color=c, alpha=0.7)\n",
    "    ax.plot_coord(constant_lat, color=c, alpha=0.7)\n",
    "\n",
    "     # Transform SkyCoord object to the SUVI SunPy Map's coordinate frame\n",
    "    flloc_hgs_sc = flloc_hgs_sc.transform_to(suvi_map.coordinate_frame)\n",
    "\n",
    "    # Plot flare\n",
    "    ax.plot_coord(flloc_hgs_sc, color=c, marker='o', fillstyle='none', markersize=8, alpha=0.7)\n",
    "\n",
    "### For each flare location in peak_loc_hg, plot flare\n",
    "for flare, c in zip(peak_hg, colors):\n",
    "    flare[flare == -9999.] = np.nan\n",
    "    flare = flare.filled(fill_value=np.nan)\n",
    "    wavelength_i = list(flloc_nc['wavelength'][:]).index(wavelength)\n",
    "\n",
    "    x = flare[wavelength_i][0]\n",
    "    y = flare[wavelength_i][1]\n",
    "\n",
    "    # Convert flare location into SkyCoord object in Heliographic Stonyhurst frame\n",
    "    flloc_hgs_sc = SkyCoord(x*u.degree, y*u.degree, obstime=flloc_time, observer=suvi_map.observer_coordinate, frame=frames.HeliographicStonyhurst)\n",
    "\n",
    "     # Transform SkyCoord object to the SUVI SunPy Map's coordinate frame\n",
    "    flloc_hgs_sc = flloc_hgs_sc.transform_to(suvi_map.coordinate_frame)\n",
    "\n",
    "    # Plot flare\n",
    "    ax.plot_coord(flloc_hgs_sc, color=c, marker='*', markersize=4, alpha=0.85)\n",
    "\n",
    "# Add legend for features\n",
    "handles, labels = legend_handles()    \n",
    "plt.legend(handles, labels, loc=1, framealpha=1)\n",
    "\n",
    "plt.show()"
   ]
  },
  {
   "cell_type": "markdown",
   "id": "7f123674-b630-4fc1-846f-c23664472686",
   "metadata": {},
   "source": [
    "Now, we will plot the coordinates from the Helioprojective Cartesian coordinate system.\n",
    "\n",
    "This cell below first plots the SUVI SunPy Map as the background, then extracts the arrays for `flloc_hg` and `peak_loc_hg` from the NetCDF.\n",
    "\n",
    "For each flare, it will make a SkyCoord object in the Helioprojective Cartesian coordinate system, and then plot corresponding contours (crosshairs) to make the flares easier to pinpoint."
   ]
  },
  {
   "cell_type": "code",
   "execution_count": null,
   "id": "0628b67e-d7a4-4cdb-a423-e1852b4c1916",
   "metadata": {},
   "outputs": [],
   "source": [
    "# Plot the composite image SunPy map\n",
    "fig = plt.figure(figsize=(10, 10))\n",
    "fig.tight_layout(h_pad=-50)\n",
    "fig.suptitle(f'Helioprojective Cartesian Coordinates, GOES-{goes}')\n",
    "ax = fig.add_subplot(projection=suvi_map)\n",
    "suvi_map.plot(axes=ax, clip_interval=(0.1, 99.9)*u.percent)\n",
    "num_points = 100\n",
    "\n",
    "x_limits = ax.get_xlim()\n",
    "y_limits = ax.get_ylim()\n",
    "\n",
    "# Get wavelength index of requested wavelength\n",
    "wavelength_i = list(flloc_nc['wavelength'][:]).index(wavelength)\n",
    "\n",
    "# Extract flare location from netCDF\n",
    "flloc_hpc = flloc_nc['flloc_hpc'][:][0]\n",
    "peak_hpc = flloc_nc['peak_loc_hpc'][:][0]\n",
    "\n",
    "# Establish colormap (one distinct color per flare)\n",
    "colors = cm.Blues_r(np.linspace(0., 0.3, len(flloc_hpc)))\n",
    "\n",
    "### For each flare location in flloc_hpc, plot flare and contours\n",
    "for flare, c in zip(flloc_hpc, colors):\n",
    "    x = float(flare[wavelength_i][0])\n",
    "    y = float(flare[wavelength_i][1])\n",
    "    \n",
    "    # Convert flare location into SkyCoord object in Helioprojective frame\n",
    "    flloc_hpc_sc = SkyCoord(x*u.arcsec, y*u.arcsec, obstime=flloc_time, observer=suvi_map.observer_coordinate, frame=frames.Helioprojective)\n",
    "\n",
    "    # Set params\n",
    "    line_resolution = 100\n",
    "    \n",
    "    # Draw x-crosshairs\n",
    "    x_location = np.repeat(x, line_resolution) * u.arcsec\n",
    "    y_line = np.linspace(-1600,1600, line_resolution) * u.arcsec\n",
    "    # Draw y-crosshairs\n",
    "    y_location = np.repeat(y, line_resolution) * u.arcsec\n",
    "    x_line = np.linspace(-1600,1600, line_resolution) * u.arcsec\n",
    "\n",
    "    ax.plot(x_line.to(u.deg), y_location.to(u.deg), color=c, transform=ax.get_transform(\"world\"))\n",
    "    ax.plot(x_location.to(u.deg), y_line.to(u.deg), color=c, transform=ax.get_transform(\"world\"))\n",
    "   \n",
    "    # Plot flare\n",
    "    ax.plot_coord(flloc_hpc_sc, color=c, marker='o', fillstyle='none', markersize=8, alpha=0.7)\n",
    "\n",
    "### For each flare location in peak_loc_hpc, plot flare and contours\n",
    "for flare, c in zip(peak_hpc, colors):\n",
    "    x = float(flare[wavelength_i][0])\n",
    "    y = float(flare[wavelength_i][1])\n",
    "    \n",
    "    # Convert flare location into SkyCoord object in Helioprojective frame\n",
    "    flloc_hpc_sc = SkyCoord(x*u.arcsec, y*u.arcsec, obstime=flloc_time, observer=suvi_map.observer_coordinate, frame=frames.Helioprojective)\n",
    "\n",
    "    # Plot flare\n",
    "    ax.plot_coord(flloc_hpc_sc, color=c, marker='*', markersize=4, alpha=0.85)\n",
    "\n",
    "# Add legend for features\n",
    "handles, labels = legend_handles()    \n",
    "plt.legend(handles, labels, loc=1, framealpha=1)\n",
    "ax.set_xlim(x_limits)\n",
    "ax.set_ylim(y_limits)\n",
    "\n",
    "plt.show()"
   ]
  },
  {
   "cell_type": "markdown",
   "id": "9c4f7309-152f-4cb1-987e-eace5592880f",
   "metadata": {},
   "source": [
    "You've now successfully plotted `flloc` and `peak_loc` for two commonly used solar coordinate systems! For more coordinate system examples, or examples of our other products, check out our website:\n",
    "\n",
    "https://cires-stp.github.io/goesr-spwx-examples/examples/index.html#suvi"
   ]
  },
  {
   "cell_type": "code",
   "execution_count": null,
   "id": "ef7fa35c-a0d2-4dc3-91d7-12562286bd27",
   "metadata": {},
   "outputs": [],
   "source": []
  }
 ],
 "metadata": {
  "kernelspec": {
   "display_name": "Python 3 (ipykernel)",
   "language": "python",
   "name": "python3"
  },
  "language_info": {
   "codemirror_mode": {
    "name": "ipython",
    "version": 3
   },
   "file_extension": ".py",
   "mimetype": "text/x-python",
   "name": "python",
   "nbconvert_exporter": "python",
   "pygments_lexer": "ipython3",
   "version": "3.10.12"
  }
 },
 "nbformat": 4,
 "nbformat_minor": 5
}
